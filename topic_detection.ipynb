{
 "cells": [
  {
   "cell_type": "code",
   "execution_count": 53,
   "id": "3ac84bf7-9552-45df-a131-54e1fada6fbd",
   "metadata": {},
   "outputs": [],
   "source": [
    "import pandas as pd\n",
    "import re\n",
    "import nltk\n",
    "nltk.download('punkt')  # For tokenization\n",
    "nltk.download('stopwords')  # For stopwords corpus\n",
    "nltk.download('wordnet') # For wordnet\n",
    "from nltk import word_tokenize, pos_tag\n",
    "from nltk.corpus import stopwords, wordnet\n",
    "from nltk.stem import WordNetLemmatizer\n",
    "from sklearn.feature_extraction.text import CountVectorizer"
   ]
  },
  {
   "cell_type": "code",
   "execution_count": 25,
   "id": "916fbb32-923d-470a-88a0-fe7aebe736c0",
   "metadata": {},
   "outputs": [
    {
     "data": {
      "text/html": [
       "<div>\n",
       "<style scoped>\n",
       "    .dataframe tbody tr th:only-of-type {\n",
       "        vertical-align: middle;\n",
       "    }\n",
       "\n",
       "    .dataframe tbody tr th {\n",
       "        vertical-align: top;\n",
       "    }\n",
       "\n",
       "    .dataframe thead th {\n",
       "        text-align: right;\n",
       "    }\n",
       "</style>\n",
       "<table border=\"1\" class=\"dataframe\">\n",
       "  <thead>\n",
       "    <tr style=\"text-align: right;\">\n",
       "      <th></th>\n",
       "      <th>ArticleId</th>\n",
       "      <th>Text</th>\n",
       "      <th>Category</th>\n",
       "    </tr>\n",
       "  </thead>\n",
       "  <tbody>\n",
       "    <tr>\n",
       "      <th>0</th>\n",
       "      <td>1833</td>\n",
       "      <td>worldcom ex-boss launches defence lawyers defe...</td>\n",
       "      <td>business</td>\n",
       "    </tr>\n",
       "    <tr>\n",
       "      <th>1</th>\n",
       "      <td>154</td>\n",
       "      <td>german business confidence slides german busin...</td>\n",
       "      <td>business</td>\n",
       "    </tr>\n",
       "    <tr>\n",
       "      <th>2</th>\n",
       "      <td>1101</td>\n",
       "      <td>bbc poll indicates economic gloom citizens in ...</td>\n",
       "      <td>business</td>\n",
       "    </tr>\n",
       "    <tr>\n",
       "      <th>3</th>\n",
       "      <td>1976</td>\n",
       "      <td>lifestyle  governs mobile choice  faster  bett...</td>\n",
       "      <td>tech</td>\n",
       "    </tr>\n",
       "    <tr>\n",
       "      <th>4</th>\n",
       "      <td>917</td>\n",
       "      <td>enron bosses in $168m payout eighteen former e...</td>\n",
       "      <td>business</td>\n",
       "    </tr>\n",
       "  </tbody>\n",
       "</table>\n",
       "</div>"
      ],
      "text/plain": [
       "   ArticleId                                               Text  Category\n",
       "0       1833  worldcom ex-boss launches defence lawyers defe...  business\n",
       "1        154  german business confidence slides german busin...  business\n",
       "2       1101  bbc poll indicates economic gloom citizens in ...  business\n",
       "3       1976  lifestyle  governs mobile choice  faster  bett...      tech\n",
       "4        917  enron bosses in $168m payout eighteen former e...  business"
      ]
     },
     "execution_count": 25,
     "metadata": {},
     "output_type": "execute_result"
    }
   ],
   "source": [
    "train_data=pd.read_csv('./data/bbc_news_train.txt', sep=',')\n",
    "test_data=pd.read_csv('./data/bbc_news_tests.txt', sep=',')\n",
    "\n",
    "train_data.head()"
   ]
  },
  {
   "cell_type": "code",
   "execution_count": 26,
   "id": "a36f1c32-b4c3-4a77-a697-00333c4d709e",
   "metadata": {},
   "outputs": [
    {
     "data": {
      "text/plain": [
       "(1490, 3)"
      ]
     },
     "execution_count": 26,
     "metadata": {},
     "output_type": "execute_result"
    }
   ],
   "source": [
    "train_data.shape"
   ]
  },
  {
   "cell_type": "code",
   "execution_count": 27,
   "id": "60e7c9e1-d6dc-45f7-bbce-9488da50905e",
   "metadata": {
    "scrolled": true
   },
   "outputs": [
    {
     "data": {
      "text/plain": [
       "ArticleId    0\n",
       "Text         0\n",
       "Category     0\n",
       "dtype: int64"
      ]
     },
     "execution_count": 27,
     "metadata": {},
     "output_type": "execute_result"
    }
   ],
   "source": [
    "train_data.isna().sum()"
   ]
  },
  {
   "cell_type": "code",
   "execution_count": 28,
   "id": "d1deb04f-5154-49cd-a7e3-58ba5d6c7448",
   "metadata": {},
   "outputs": [
    {
     "data": {
      "text/plain": [
       "Unnamed: 0    0\n",
       "ArticleId     0\n",
       "Text          0\n",
       "Category      0\n",
       "dtype: int64"
      ]
     },
     "execution_count": 28,
     "metadata": {},
     "output_type": "execute_result"
    }
   ],
   "source": [
    "test_data.isna().sum()"
   ]
  },
  {
   "cell_type": "code",
   "execution_count": 29,
   "id": "b08814f8-cc89-4295-b114-4bc898fa36cc",
   "metadata": {},
   "outputs": [
    {
     "data": {
      "text/plain": [
       "Category\n",
       "sport            346\n",
       "business         336\n",
       "politics         274\n",
       "entertainment    273\n",
       "tech             261\n",
       "Name: count, dtype: int64"
      ]
     },
     "execution_count": 29,
     "metadata": {},
     "output_type": "execute_result"
    }
   ],
   "source": [
    "category_proportions = train_data['Category'].value_counts()\n",
    "category_proportions"
   ]
  },
  {
   "cell_type": "code",
   "execution_count": 30,
   "id": "8dc04b65-26da-457c-9932-a15fe8f09dbe",
   "metadata": {},
   "outputs": [],
   "source": [
    "\n",
    "\n",
    "def get_wordnet_pos(tag):\n",
    "    if tag.startswith('J'):\n",
    "        return wordnet.ADJ\n",
    "    elif tag.startswith('V'):\n",
    "        return wordnet.VERB\n",
    "    elif tag.startswith('N'):\n",
    "        return wordnet.NOUN\n",
    "    elif tag.startswith('R'):\n",
    "        return wordnet.ADV\n",
    "    else:         \n",
    "        return wordnet.NOUN\n",
    "    \n",
    "def lemmatize_passage(text):\n",
    "    lemmatizer = WordNetLemmatizer()\n",
    "    words = word_tokenize(text)\n",
    "    pos_tags = pos_tag(words)\n",
    "    lemmatizer = WordNetLemmatizer()\n",
    "    lemmatized_words = [lemmatizer.lemmatize(word, get_wordnet_pos(tag)) for word, tag in pos_tags]\n",
    "    lemmatized_sentence = ' '.join(lemmatized_words)\n",
    "    return lemmatized_sentence\n",
    "\n",
    "\n",
    "def preprocessing(text):\n",
    "    text= text.lower()\n",
    "    \n",
    "    text = re.sub('[^a-zA-Z]', ' ', text)\n",
    "\n",
    "    words= word_tokenize(text)\n",
    "    \n",
    "    filtered_words = [word for word in words if word.lower() not in stopwords.words('english')]\n",
    "\n",
    "    filtered_phrases=' '.join(filtered_words)\n",
    "    \n",
    "    lemmatizer = lemmatize_passage(filtered_phrases)\n",
    "  \n",
    "    return  lemmatizer\n"
   ]
  },
  {
   "cell_type": "code",
   "execution_count": 31,
   "id": "885db495-06e1-4467-9df9-09be1c541622",
   "metadata": {},
   "outputs": [],
   "source": [
    "train_data['Text']= [preprocessing(text) for text in train_data['Text'] ]\n",
    "test_data['Text']= [preprocessing(text) for text in test_data['Text'] ]\n"
   ]
  },
  {
   "cell_type": "code",
   "execution_count": 32,
   "id": "236966d1-8dc7-4b2a-aa17-cc728cca0186",
   "metadata": {},
   "outputs": [],
   "source": [
    "cv = CountVectorizer()\n",
    "\n",
    "X_train = cv.fit_transform(train_data['Text'])\n",
    "X_test= cv.transform(test_data['Text'])"
   ]
  },
  {
   "cell_type": "code",
   "execution_count": 33,
   "id": "aeacb1dc-5f7e-494f-888f-f8a551dc67cc",
   "metadata": {},
   "outputs": [
    {
     "name": "stdout",
     "output_type": "stream",
     "text": [
      "2\n"
     ]
    }
   ],
   "source": [
    "replacement = {'sport': 1, 'business': 2, 'politics': 3, 'entertainment': 4, 'tech': 5}\n",
    "\n",
    "train_data['Category'] = train_data['Category'].apply(lambda x: replacement.get(x, 0))\n",
    "test_data['Category'] = test_data['Category'].apply(lambda x: replacement.get(x, 0) )\n",
    "\n",
    "print(replacement.get('business'))\n",
    "y_train= train_data['Category']\n",
    "y_test= test_data['Category']"
   ]
  },
  {
   "cell_type": "code",
   "execution_count": 34,
   "id": "21121899-7e36-45ad-aff0-a75d1393bae7",
   "metadata": {},
   "outputs": [
    {
     "name": "stdout",
     "output_type": "stream",
     "text": [
      "Accuracy: 0.9796\n",
      "[1 5 1 2 1 1 3 3 4 2]\n",
      "\n",
      "Classification Report:\n",
      "               precision    recall  f1-score   support\n",
      "\n",
      "           1       0.99      1.00      1.00       165\n",
      "           2       0.97      0.97      0.97       174\n",
      "           3       0.97      0.97      0.97       143\n",
      "           4       0.97      0.98      0.97       113\n",
      "           5       0.99      0.97      0.98       140\n",
      "\n",
      "    accuracy                           0.98       735\n",
      "   macro avg       0.98      0.98      0.98       735\n",
      "weighted avg       0.98      0.98      0.98       735\n",
      "\n",
      "\n",
      "Confusion Matrix:\n",
      " [[165   0   0   0   0]\n",
      " [  0 169   3   2   0]\n",
      " [  0   2 139   2   0]\n",
      " [  0   1   0 111   1]\n",
      " [  1   2   1   0 136]]\n"
     ]
    }
   ],
   "source": [
    "from sklearn.linear_model import LogisticRegression\n",
    "from sklearn.metrics import accuracy_score, classification_report, confusion_matrix\n",
    "\n",
    "\n",
    "clf = LogisticRegression(max_iter=10000, random_state=0)\n",
    "clf.fit(X_train, y_train)\n",
    "\n",
    "y_pred = clf.predict(X_test)\n",
    "\n",
    "accuracy = accuracy_score(y_test, y_pred)\n",
    "print(f\"Accuracy: {accuracy:.4f}\")\n",
    "print(y_pred[:10])\n",
    "\n",
    "report = classification_report(y_test, y_pred)\n",
    "print(\"\\nClassification Report:\\n\", report)\n",
    "\n",
    "# 3. Matrice de confusion\n",
    "conf_matrix = confusion_matrix(y_test, y_pred)\n",
    "print(\"\\nConfusion Matrix:\\n\", conf_matrix)\n"
   ]
  },
  {
   "cell_type": "code",
   "execution_count": 51,
   "id": "06d8349d-93cd-4c9e-902b-3f9aaa0269b2",
   "metadata": {},
   "outputs": [],
   "source": [
    "# Sauvegardez le modèle dans un fichier\n",
    "import pickle\n",
    "with open('topic_classifier.pkl', 'wb') as file:\n",
    "    pickle.dump(clf, file)"
   ]
  },
  {
   "cell_type": "code",
   "execution_count": 52,
   "id": "fc6f9d01-6f45-4f60-a681-32864467bf60",
   "metadata": {},
   "outputs": [
    {
     "name": "stdout",
     "output_type": "stream",
     "text": [
      "Accuracy: 0.9796\n"
     ]
    }
   ],
   "source": [
    "# test load modele\n",
    "#with open('topic_classifier.pkl', 'rb') as file:\n",
    "#   model=pickle.load(file)\n",
    "#   y_pred = model.predict(X_test)\n",
    "#   accuracy = accuracy_score(y_test, y_pred)\n",
    "#   print(f\"Accuracy: {accuracy:.4f}\")"
   ]
  },
  {
   "cell_type": "code",
   "execution_count": 35,
   "id": "d95c73da-3641-4742-a52b-fb520e241c12",
   "metadata": {},
   "outputs": [
    {
     "data": {
      "image/png": "[encoded data removed]",
      "text/plain": [
       "<Figure size 800x600 with 1 Axes>"
      ]
     },
     "metadata": {},
     "output_type": "display_data"
    }
   ],
   "source": [
    "import matplotlib.pyplot as plt\n",
    "import numpy as np\n",
    "from sklearn.model_selection import LearningCurveDisplay, ShuffleSplit\n",
    "\n",
    "\n",
    "common_params = {\n",
    "    \"X\": X_train,\n",
    "    \"y\": y_train,\n",
    "    \"train_sizes\": np.linspace(0.1, 1.0, 5),  \n",
    "    \"cv\": ShuffleSplit(n_splits=50, test_size=0.2, random_state=0),  \n",
    "    \"score_type\": \"both\",  \n",
    "    \"n_jobs\": -1,  \n",
    "    \"line_kw\": {\"marker\": \"o\"},  \n",
    "    \"std_display_style\": \"fill_between\",  \n",
    "    \"score_name\": \"Accuracy\",  \n",
    "}\n",
    "\n",
    "\n",
    "fig, ax = plt.subplots(figsize=(8, 6))\n",
    "\n",
    "LearningCurveDisplay.from_estimator(clf, **common_params, ax=ax)\n",
    "\n",
    "handles, label = ax.get_legend_handles_labels()\n",
    "ax.legend(handles[:2], [\"Training Score\", \"Test Score\"])\n",
    "ax.set_title(\"Learning Curve for Naive Bayes\")\n",
    "\n",
    "plt.tight_layout()\n",
    "plt.show()\n"
   ]
  }
 ],
 "metadata": {
  "kernelspec": {
   "display_name": "Python 3 (ipykernel)",
   "language": "python",
   "name": "python3"
  },
  "language_info": {
   "codemirror_mode": {
    "name": "ipython",
    "version": 3
   },
   "file_extension": ".py",
   "mimetype": "text/x-python",
   "name": "python",
   "nbconvert_exporter": "python",
   "pygments_lexer": "ipython3",
   "version": "3.10.16"
  }
 },
 "nbformat": 4,
 "nbformat_minor": 5
}
